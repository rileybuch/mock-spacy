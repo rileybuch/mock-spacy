{
 "cells": [
  {
   "cell_type": "markdown",
   "id": "1c6c4d4e",
   "metadata": {},
   "source": [
    "# Introdiction to spaCy - an NLP library for Python\n",
    "____________________________"
   ]
  },
  {
   "cell_type": "markdown",
   "id": "4c1e53a5",
   "metadata": {},
   "source": [
    "### General Notes\n",
    "- spaCy is an NLP library written in Cython. It is designed for production use, so it scales well and can handle processing large volumes of text.  \n",
    "\n",
    "\n",
    "- spaCy seems to be a popular and well-reviewer library specifically for text preprocessing. There are a lot of features that I will introduce that allow you to tokenize, tag, and parse text files.   \n",
    "\n",
    "\n",
    "- To download a model from a Credit Suisse VM, you'll need to follow some steps to connect external sites from your desktop. Even after getting my proxy set up to clone the spaCy repo, installation from their GitHub requires Microsoft Visual Studio C++, which requires access through MyAccess.  \n",
    "\n",
    "\n",
    "- This demo was made on my own computer, where installation and downloading models was simple. Perhaps a future demo on setting up and using the pxproxy would prove helpful for using more of these tools that require internet access for downloading data and models. \n",
    "\n",
    "\n",
    "Link to spaCy Home Page: https://spacy.io/"
   ]
  },
  {
   "cell_type": "markdown",
   "id": "3a19baff",
   "metadata": {},
   "source": [
    "### Installation with pip or conda"
   ]
  },
  {
   "cell_type": "markdown",
   "id": "d6e873ed",
   "metadata": {},
   "source": [
    "Make sure pip, setuptools, and wheel are updated, then install spacy library:\n",
    "\n",
    "```\n",
    "pip install -U pip setuptools wheel \n",
    "pip install -U spacy\n",
    "```\n",
    "or with conda forge:\n",
    "```\n",
    "conda install -c conda-forge spacy\n",
    "\n",
    "```"
   ]
  },
  {
   "cell_type": "markdown",
   "id": "b3a2e1dd",
   "metadata": {},
   "source": [
    "### Downloading a pre-trained model or pipeline"
   ]
  },
  {
   "cell_type": "markdown",
   "id": "82fd875e",
   "metadata": {},
   "source": [
    "```\n",
    "python -m spacy download en_core_web_sm\n",
    "```"
   ]
  },
  {
   "cell_type": "markdown",
   "id": "99b461c0",
   "metadata": {},
   "source": [
    "Note the \"\\_sm\" suffix. spaCy provides both small and large models for each language. "
   ]
  },
  {
   "cell_type": "markdown",
   "id": "981a96bd",
   "metadata": {},
   "source": [
    "### Loading a model"
   ]
  },
  {
   "cell_type": "code",
   "execution_count": 4,
   "id": "eb3d0b07",
   "metadata": {},
   "outputs": [],
   "source": [
    "import spacy"
   ]
  },
  {
   "cell_type": "code",
   "execution_count": 5,
   "id": "b90fdb3d",
   "metadata": {},
   "outputs": [],
   "source": [
    "nlp = spacy.load(\"en_core_web_sm\")"
   ]
  },
  {
   "cell_type": "code",
   "execution_count": 6,
   "id": "01fde63d",
   "metadata": {},
   "outputs": [
    {
     "data": {
      "text/plain": [
       "Hi, my name is Riley"
      ]
     },
     "execution_count": 6,
     "metadata": {},
     "output_type": "execute_result"
    }
   ],
   "source": [
    "nlp(\"Hi, my name is Riley\")"
   ]
  },
  {
   "cell_type": "code",
   "execution_count": 7,
   "id": "2ea70c19",
   "metadata": {},
   "outputs": [
    {
     "data": {
      "text/plain": [
       "spacy.tokens.doc.Doc"
      ]
     },
     "execution_count": 7,
     "metadata": {},
     "output_type": "execute_result"
    }
   ],
   "source": [
    "type(nlp(\"Hi, my name is Riley\"))"
   ]
  },
  {
   "cell_type": "code",
   "execution_count": 8,
   "id": "d62630c6",
   "metadata": {},
   "outputs": [
    {
     "data": {
      "text/plain": [
       "[Hi, ,, my, name, is, Riley]"
      ]
     },
     "execution_count": 8,
     "metadata": {},
     "output_type": "execute_result"
    }
   ],
   "source": [
    "[t for t in nlp(\"Hi, my name is Riley\")]"
   ]
  },
  {
   "cell_type": "code",
   "execution_count": 9,
   "id": "44a1fedd",
   "metadata": {},
   "outputs": [
    {
     "data": {
      "text/plain": [
       "spacy.tokens.token.Token"
      ]
     },
     "execution_count": 9,
     "metadata": {},
     "output_type": "execute_result"
    }
   ],
   "source": [
    "type(nlp(\"Hi, my name is Riley\")[0])"
   ]
  },
  {
   "cell_type": "code",
   "execution_count": 10,
   "id": "75f188f2",
   "metadata": {},
   "outputs": [
    {
     "name": "stdout",
     "output_type": "stream",
     "text": [
      "Riley\n"
     ]
    }
   ],
   "source": [
    "t = nlp(\"Hi, my name is Riley\")[-1]\n",
    "print(t)"
   ]
  },
  {
   "cell_type": "markdown",
   "id": "74ff3da0",
   "metadata": {},
   "source": [
    "Press tab after a token object to see all the attached properties"
   ]
  },
  {
   "attachments": {
    "Screen%20Shot%202022-03-16%20at%204.35.40%20PM.png": {
     "image/png": "[encoded data removed]"
    }
   },
   "cell_type": "markdown",
   "id": "aa2e7e69",
   "metadata": {},
   "source": [
    "![Screen%20Shot%202022-03-16%20at%204.35.40%20PM.png](attachment:Screen%20Shot%202022-03-16%20at%204.35.40%20PM.png)"
   ]
  },
  {
   "cell_type": "code",
   "execution_count": 12,
   "id": "b62a79e1",
   "metadata": {},
   "outputs": [
    {
     "name": "stdout",
     "output_type": "stream",
     "text": [
      "name   -   name NOUN xxxx True True\n",
      "is   -   be AUX xx True True\n",
      "Riley   -   Riley PROPN Xxxxx True False\n"
     ]
    }
   ],
   "source": [
    "for token in nlp(\"Hi, my name is Riley\")[-3:]:\n",
    "    print(token.text, '  -  ',\n",
    "          token.lemma_, token.pos_, token.shape_,\n",
    "          token.is_alpha, token.is_stop)"
   ]
  },
  {
   "cell_type": "code",
   "execution_count": 13,
   "id": "4d22432e",
   "metadata": {},
   "outputs": [],
   "source": [
    "# spacy proivides example sentences in each language\n",
    "from spacy.lang.en.examples import sentences "
   ]
  },
  {
   "cell_type": "code",
   "execution_count": 14,
   "id": "70319075",
   "metadata": {},
   "outputs": [],
   "source": [
    "doc1 = nlp(\"My incredible wife is sitting right beside me, reading a book.\")\n",
    "doc2 = nlp(\"I'm exhausted and don't feel like working today.\")\n",
    "doc3 = nlp(sentences[0])\n",
    "doc4 = nlp(sentences[6])"
   ]
  },
  {
   "cell_type": "code",
   "execution_count": 15,
   "id": "908822c9",
   "metadata": {},
   "outputs": [
    {
     "name": "stdout",
     "output_type": "stream",
     "text": [
      "My incredible wife is sitting right beside me, reading a book. \n",
      " I'm exhausted and don't feel like working today. \n",
      " Apple is looking at buying U.K. startup for $1 billion \n",
      " What is the capital of the United States?\n"
     ]
    }
   ],
   "source": [
    "print(doc1, '\\n', doc2, '\\n', doc3, '\\n', doc4)"
   ]
  },
  {
   "cell_type": "code",
   "execution_count": 16,
   "id": "73b23cd0",
   "metadata": {},
   "outputs": [
    {
     "name": "stdout",
     "output_type": "stream",
     "text": [
      "Apple is looking at buying U.K. startup for $1 billion\n",
      "Apple  -  Apple PROPN nsubj NNP\n",
      "is  -  be AUX aux VBZ\n",
      "looking  -  look VERB ROOT VBG\n",
      "at  -  at ADP prep IN\n",
      "buying  -  buy VERB pcomp VBG\n",
      "U.K.  -  U.K. PROPN dobj NNP\n",
      "startup  -  startup VERB dep VBD\n",
      "for  -  for ADP prep IN\n",
      "$  -  $ SYM quantmod $\n",
      "1  -  1 NUM compound CD\n",
      "billion  -  billion NUM pobj CD\n"
     ]
    }
   ],
   "source": [
    "print(doc3)\n",
    "for token in doc3:\n",
    "    print(token.text, ' - ',\n",
    "          token.lemma_, token.pos_, token.dep_, token.tag_)"
   ]
  },
  {
   "cell_type": "markdown",
   "id": "d1f9120f",
   "metadata": {},
   "source": [
    "   "
   ]
  },
  {
   "cell_type": "markdown",
   "id": "46f49661",
   "metadata": {},
   "source": [
    "lemma_ = base form of word, found via lookup (different from stem, which is a shortened form of the word, not found by lookup and therefore may not be an actual word.)   \n",
    "pos_ = part-of-speech   \n",
    "dep_ = dependency   \n",
    "is_alpha = is the token made of alphanumeric characters   \n",
    "is_stop = is the token part of a stop list (the most common words in the language)   \n",
    "\n",
    "A token has many more attributes, which can be found at https://spacy.io/api/token#attributes"
   ]
  },
  {
   "cell_type": "markdown",
   "id": "03744cf5",
   "metadata": {},
   "source": [
    "## Features\n",
    "\n",
    "### Tokenization\n",
    "\n",
    "Raw text splits on whitespace characters, then processed from left to right checking for special cases. "
   ]
  },
  {
   "cell_type": "code",
   "execution_count": 17,
   "id": "fe21e0e5",
   "metadata": {},
   "outputs": [
    {
     "name": "stdout",
     "output_type": "stream",
     "text": [
      "[My, incredible, wife, is, sitting, right, beside, me, ,, reading, a, book, .]\n",
      "<class 'spacy.tokens.doc.Doc'>\n",
      "<class 'spacy.tokens.token.Token'>\n"
     ]
    }
   ],
   "source": [
    "print([t for t in doc1])\n",
    "print(type(doc1))\n",
    "print(type(doc1[0]))"
   ]
  },
  {
   "cell_type": "markdown",
   "id": "56dc2dab",
   "metadata": {},
   "source": [
    "The docs are processed and split into individual words, with each annotated, but it still holds all the information of the original text, like whitespace characters and punctuation. "
   ]
  },
  {
   "cell_type": "markdown",
   "id": "6153df47",
   "metadata": {},
   "source": [
    "### Part-of-speech Tagging and Dependencies\n",
    "\n",
    "These tags are predictions made by the model, so a larger model or a fine-tuned model to your dataset would have more accurate tags."
   ]
  },
  {
   "cell_type": "code",
   "execution_count": 18,
   "id": "77f8c6f8",
   "metadata": {},
   "outputs": [
    {
     "name": "stdout",
     "output_type": "stream",
     "text": [
      "My PRON poss\n",
      "incredible ADJ amod\n",
      "wife NOUN nsubj\n",
      "is AUX aux\n",
      "sitting VERB ROOT\n",
      "right ADV advmod\n",
      "beside ADP prep\n",
      "me PRON pobj\n",
      ", PUNCT punct\n",
      "reading VERB advcl\n",
      "a DET det\n",
      "book NOUN dobj\n",
      ". PUNCT punct\n"
     ]
    }
   ],
   "source": [
    "for token in doc1:\n",
    "    print(token.text, token.pos_, token.dep_,)"
   ]
  },
  {
   "cell_type": "code",
   "execution_count": 19,
   "id": "697341ab",
   "metadata": {},
   "outputs": [
    {
     "name": "stdout",
     "output_type": "stream",
     "text": [
      "My incredible wife - wife nsubj sitting\n",
      "me - me pobj beside\n",
      "a book - book dobj reading\n"
     ]
    }
   ],
   "source": [
    "# Look at the base noun phrases\n",
    "for chunk in doc1.noun_chunks:\n",
    "    print(chunk.text, '-', chunk.root.text, chunk.root.dep_,\n",
    "            chunk.root.head.text)"
   ]
  },
  {
   "cell_type": "markdown",
   "id": "34bbc92d",
   "metadata": {},
   "source": [
    "spaCy has a built-in visualizer called displaCy, which can be used to visualize the dependencies in a text. \n",
    "\n",
    "See https://spacy.io/usage/visualizers for a guide on how to use and style different visualizations."
   ]
  },
  {
   "cell_type": "code",
   "execution_count": 20,
   "id": "39fc6fbb",
   "metadata": {},
   "outputs": [
    {
     "data": {
      "text/html": [
       "<span class=\"tex2jax_ignore\"><svg xmlns=\"http://www.w3.org/2000/svg\" xmlns:xlink=\"http://www.w3.org/1999/xlink\" xml:lang=\"en\" id=\"5b3a1db9488b4074aa4df8a1a003e93d-0\" class=\"displacy\" width=\"1975\" height=\"399.5\" direction=\"ltr\" style=\"max-width: none; height: 399.5px; color: #000000; background: #ffffff; font-family: Arial; direction: ltr\">\n",
       "<text class=\"displacy-token\" fill=\"currentColor\" text-anchor=\"middle\" y=\"309.5\">\n",
       "    <tspan class=\"displacy-word\" fill=\"currentColor\" x=\"50\">My</tspan>\n",
       "    <tspan class=\"displacy-tag\" dy=\"2em\" fill=\"currentColor\" x=\"50\">PRON</tspan>\n",
       "</text>\n",
       "\n",
       "<text class=\"displacy-token\" fill=\"currentColor\" text-anchor=\"middle\" y=\"309.5\">\n",
       "    <tspan class=\"displacy-word\" fill=\"currentColor\" x=\"225\">incredible</tspan>\n",
       "    <tspan class=\"displacy-tag\" dy=\"2em\" fill=\"currentColor\" x=\"225\">ADJ</tspan>\n",
       "</text>\n",
       "\n",
       "<text class=\"displacy-token\" fill=\"currentColor\" text-anchor=\"middle\" y=\"309.5\">\n",
       "    <tspan class=\"displacy-word\" fill=\"currentColor\" x=\"400\">wife</tspan>\n",
       "    <tspan class=\"displacy-tag\" dy=\"2em\" fill=\"currentColor\" x=\"400\">NOUN</tspan>\n",
       "</text>\n",
       "\n",
       "<text class=\"displacy-token\" fill=\"currentColor\" text-anchor=\"middle\" y=\"309.5\">\n",
       "    <tspan class=\"displacy-word\" fill=\"currentColor\" x=\"575\">is</tspan>\n",
       "    <tspan class=\"displacy-tag\" dy=\"2em\" fill=\"currentColor\" x=\"575\">AUX</tspan>\n",
       "</text>\n",
       "\n",
       "<text class=\"displacy-token\" fill=\"currentColor\" text-anchor=\"middle\" y=\"309.5\">\n",
       "    <tspan class=\"displacy-word\" fill=\"currentColor\" x=\"750\">sitting</tspan>\n",
       "    <tspan class=\"displacy-tag\" dy=\"2em\" fill=\"currentColor\" x=\"750\">VERB</tspan>\n",
       "</text>\n",
       "\n",
       "<text class=\"displacy-token\" fill=\"currentColor\" text-anchor=\"middle\" y=\"309.5\">\n",
       "    <tspan class=\"displacy-word\" fill=\"currentColor\" x=\"925\">right</tspan>\n",
       "    <tspan class=\"displacy-tag\" dy=\"2em\" fill=\"currentColor\" x=\"925\">ADV</tspan>\n",
       "</text>\n",
       "\n",
       "<text class=\"displacy-token\" fill=\"currentColor\" text-anchor=\"middle\" y=\"309.5\">\n",
       "    <tspan class=\"displacy-word\" fill=\"currentColor\" x=\"1100\">beside</tspan>\n",
       "    <tspan class=\"displacy-tag\" dy=\"2em\" fill=\"currentColor\" x=\"1100\">ADP</tspan>\n",
       "</text>\n",
       "\n",
       "<text class=\"displacy-token\" fill=\"currentColor\" text-anchor=\"middle\" y=\"309.5\">\n",
       "    <tspan class=\"displacy-word\" fill=\"currentColor\" x=\"1275\">me,</tspan>\n",
       "    <tspan class=\"displacy-tag\" dy=\"2em\" fill=\"currentColor\" x=\"1275\">PRON</tspan>\n",
       "</text>\n",
       "\n",
       "<text class=\"displacy-token\" fill=\"currentColor\" text-anchor=\"middle\" y=\"309.5\">\n",
       "    <tspan class=\"displacy-word\" fill=\"currentColor\" x=\"1450\">reading</tspan>\n",
       "    <tspan class=\"displacy-tag\" dy=\"2em\" fill=\"currentColor\" x=\"1450\">VERB</tspan>\n",
       "</text>\n",
       "\n",
       "<text class=\"displacy-token\" fill=\"currentColor\" text-anchor=\"middle\" y=\"309.5\">\n",
       "    <tspan class=\"displacy-word\" fill=\"currentColor\" x=\"1625\">a</tspan>\n",
       "    <tspan class=\"displacy-tag\" dy=\"2em\" fill=\"currentColor\" x=\"1625\">DET</tspan>\n",
       "</text>\n",
       "\n",
       "<text class=\"displacy-token\" fill=\"currentColor\" text-anchor=\"middle\" y=\"309.5\">\n",
       "    <tspan class=\"displacy-word\" fill=\"currentColor\" x=\"1800\">book.</tspan>\n",
       "    <tspan class=\"displacy-tag\" dy=\"2em\" fill=\"currentColor\" x=\"1800\">NOUN</tspan>\n",
       "</text>\n",
       "\n",
       "<g class=\"displacy-arrow\">\n",
       "    <path class=\"displacy-arc\" id=\"arrow-5b3a1db9488b4074aa4df8a1a003e93d-0-0\" stroke-width=\"2px\" d=\"M70,264.5 C70,89.5 395.0,89.5 395.0,264.5\" fill=\"none\" stroke=\"currentColor\"/>\n",
       "    <text dy=\"1.25em\" style=\"font-size: 0.8em; letter-spacing: 1px\">\n",
       "        <textPath xlink:href=\"#arrow-5b3a1db9488b4074aa4df8a1a003e93d-0-0\" class=\"displacy-label\" startOffset=\"50%\" side=\"left\" fill=\"currentColor\" text-anchor=\"middle\">poss</textPath>\n",
       "    </text>\n",
       "    <path class=\"displacy-arrowhead\" d=\"M70,266.5 L62,254.5 78,254.5\" fill=\"currentColor\"/>\n",
       "</g>\n",
       "\n",
       "<g class=\"displacy-arrow\">\n",
       "    <path class=\"displacy-arc\" id=\"arrow-5b3a1db9488b4074aa4df8a1a003e93d-0-1\" stroke-width=\"2px\" d=\"M245,264.5 C245,177.0 390.0,177.0 390.0,264.5\" fill=\"none\" stroke=\"currentColor\"/>\n",
       "    <text dy=\"1.25em\" style=\"font-size: 0.8em; letter-spacing: 1px\">\n",
       "        <textPath xlink:href=\"#arrow-5b3a1db9488b4074aa4df8a1a003e93d-0-1\" class=\"displacy-label\" startOffset=\"50%\" side=\"left\" fill=\"currentColor\" text-anchor=\"middle\">amod</textPath>\n",
       "    </text>\n",
       "    <path class=\"displacy-arrowhead\" d=\"M245,266.5 L237,254.5 253,254.5\" fill=\"currentColor\"/>\n",
       "</g>\n",
       "\n",
       "<g class=\"displacy-arrow\">\n",
       "    <path class=\"displacy-arc\" id=\"arrow-5b3a1db9488b4074aa4df8a1a003e93d-0-2\" stroke-width=\"2px\" d=\"M420,264.5 C420,89.5 745.0,89.5 745.0,264.5\" fill=\"none\" stroke=\"currentColor\"/>\n",
       "    <text dy=\"1.25em\" style=\"font-size: 0.8em; letter-spacing: 1px\">\n",
       "        <textPath xlink:href=\"#arrow-5b3a1db9488b4074aa4df8a1a003e93d-0-2\" class=\"displacy-label\" startOffset=\"50%\" side=\"left\" fill=\"currentColor\" text-anchor=\"middle\">nsubj</textPath>\n",
       "    </text>\n",
       "    <path class=\"displacy-arrowhead\" d=\"M420,266.5 L412,254.5 428,254.5\" fill=\"currentColor\"/>\n",
       "</g>\n",
       "\n",
       "<g class=\"displacy-arrow\">\n",
       "    <path class=\"displacy-arc\" id=\"arrow-5b3a1db9488b4074aa4df8a1a003e93d-0-3\" stroke-width=\"2px\" d=\"M595,264.5 C595,177.0 740.0,177.0 740.0,264.5\" fill=\"none\" stroke=\"currentColor\"/>\n",
       "    <text dy=\"1.25em\" style=\"font-size: 0.8em; letter-spacing: 1px\">\n",
       "        <textPath xlink:href=\"#arrow-5b3a1db9488b4074aa4df8a1a003e93d-0-3\" class=\"displacy-label\" startOffset=\"50%\" side=\"left\" fill=\"currentColor\" text-anchor=\"middle\">aux</textPath>\n",
       "    </text>\n",
       "    <path class=\"displacy-arrowhead\" d=\"M595,266.5 L587,254.5 603,254.5\" fill=\"currentColor\"/>\n",
       "</g>\n",
       "\n",
       "<g class=\"displacy-arrow\">\n",
       "    <path class=\"displacy-arc\" id=\"arrow-5b3a1db9488b4074aa4df8a1a003e93d-0-4\" stroke-width=\"2px\" d=\"M945,264.5 C945,177.0 1090.0,177.0 1090.0,264.5\" fill=\"none\" stroke=\"currentColor\"/>\n",
       "    <text dy=\"1.25em\" style=\"font-size: 0.8em; letter-spacing: 1px\">\n",
       "        <textPath xlink:href=\"#arrow-5b3a1db9488b4074aa4df8a1a003e93d-0-4\" class=\"displacy-label\" startOffset=\"50%\" side=\"left\" fill=\"currentColor\" text-anchor=\"middle\">advmod</textPath>\n",
       "    </text>\n",
       "    <path class=\"displacy-arrowhead\" d=\"M945,266.5 L937,254.5 953,254.5\" fill=\"currentColor\"/>\n",
       "</g>\n",
       "\n",
       "<g class=\"displacy-arrow\">\n",
       "    <path class=\"displacy-arc\" id=\"arrow-5b3a1db9488b4074aa4df8a1a003e93d-0-5\" stroke-width=\"2px\" d=\"M770,264.5 C770,89.5 1095.0,89.5 1095.0,264.5\" fill=\"none\" stroke=\"currentColor\"/>\n",
       "    <text dy=\"1.25em\" style=\"font-size: 0.8em; letter-spacing: 1px\">\n",
       "        <textPath xlink:href=\"#arrow-5b3a1db9488b4074aa4df8a1a003e93d-0-5\" class=\"displacy-label\" startOffset=\"50%\" side=\"left\" fill=\"currentColor\" text-anchor=\"middle\">prep</textPath>\n",
       "    </text>\n",
       "    <path class=\"displacy-arrowhead\" d=\"M1095.0,266.5 L1103.0,254.5 1087.0,254.5\" fill=\"currentColor\"/>\n",
       "</g>\n",
       "\n",
       "<g class=\"displacy-arrow\">\n",
       "    <path class=\"displacy-arc\" id=\"arrow-5b3a1db9488b4074aa4df8a1a003e93d-0-6\" stroke-width=\"2px\" d=\"M1120,264.5 C1120,177.0 1265.0,177.0 1265.0,264.5\" fill=\"none\" stroke=\"currentColor\"/>\n",
       "    <text dy=\"1.25em\" style=\"font-size: 0.8em; letter-spacing: 1px\">\n",
       "        <textPath xlink:href=\"#arrow-5b3a1db9488b4074aa4df8a1a003e93d-0-6\" class=\"displacy-label\" startOffset=\"50%\" side=\"left\" fill=\"currentColor\" text-anchor=\"middle\">pobj</textPath>\n",
       "    </text>\n",
       "    <path class=\"displacy-arrowhead\" d=\"M1265.0,266.5 L1273.0,254.5 1257.0,254.5\" fill=\"currentColor\"/>\n",
       "</g>\n",
       "\n",
       "<g class=\"displacy-arrow\">\n",
       "    <path class=\"displacy-arc\" id=\"arrow-5b3a1db9488b4074aa4df8a1a003e93d-0-7\" stroke-width=\"2px\" d=\"M770,264.5 C770,2.0 1450.0,2.0 1450.0,264.5\" fill=\"none\" stroke=\"currentColor\"/>\n",
       "    <text dy=\"1.25em\" style=\"font-size: 0.8em; letter-spacing: 1px\">\n",
       "        <textPath xlink:href=\"#arrow-5b3a1db9488b4074aa4df8a1a003e93d-0-7\" class=\"displacy-label\" startOffset=\"50%\" side=\"left\" fill=\"currentColor\" text-anchor=\"middle\">advcl</textPath>\n",
       "    </text>\n",
       "    <path class=\"displacy-arrowhead\" d=\"M1450.0,266.5 L1458.0,254.5 1442.0,254.5\" fill=\"currentColor\"/>\n",
       "</g>\n",
       "\n",
       "<g class=\"displacy-arrow\">\n",
       "    <path class=\"displacy-arc\" id=\"arrow-5b3a1db9488b4074aa4df8a1a003e93d-0-8\" stroke-width=\"2px\" d=\"M1645,264.5 C1645,177.0 1790.0,177.0 1790.0,264.5\" fill=\"none\" stroke=\"currentColor\"/>\n",
       "    <text dy=\"1.25em\" style=\"font-size: 0.8em; letter-spacing: 1px\">\n",
       "        <textPath xlink:href=\"#arrow-5b3a1db9488b4074aa4df8a1a003e93d-0-8\" class=\"displacy-label\" startOffset=\"50%\" side=\"left\" fill=\"currentColor\" text-anchor=\"middle\">det</textPath>\n",
       "    </text>\n",
       "    <path class=\"displacy-arrowhead\" d=\"M1645,266.5 L1637,254.5 1653,254.5\" fill=\"currentColor\"/>\n",
       "</g>\n",
       "\n",
       "<g class=\"displacy-arrow\">\n",
       "    <path class=\"displacy-arc\" id=\"arrow-5b3a1db9488b4074aa4df8a1a003e93d-0-9\" stroke-width=\"2px\" d=\"M1470,264.5 C1470,89.5 1795.0,89.5 1795.0,264.5\" fill=\"none\" stroke=\"currentColor\"/>\n",
       "    <text dy=\"1.25em\" style=\"font-size: 0.8em; letter-spacing: 1px\">\n",
       "        <textPath xlink:href=\"#arrow-5b3a1db9488b4074aa4df8a1a003e93d-0-9\" class=\"displacy-label\" startOffset=\"50%\" side=\"left\" fill=\"currentColor\" text-anchor=\"middle\">dobj</textPath>\n",
       "    </text>\n",
       "    <path class=\"displacy-arrowhead\" d=\"M1795.0,266.5 L1803.0,254.5 1787.0,254.5\" fill=\"currentColor\"/>\n",
       "</g>\n",
       "</svg></span>"
      ],
      "text/plain": [
       "<IPython.core.display.HTML object>"
      ]
     },
     "metadata": {},
     "output_type": "display_data"
    }
   ],
   "source": [
    "from spacy import displacy\n",
    "displacy.render(doc1, style=\"dep\") \n",
    "# displacy.serve(doc, style=\"dep\") #displacy.serve opens the visualization in another window, "
   ]
  },
  {
   "attachments": {
    "Screen%20Shot%202022-03-17%20at%207.25.10%20AM.png": {
     "image/png": "[encoded data removed]"
    }
   },
   "cell_type": "markdown",
   "id": "f1568c76",
   "metadata": {},
   "source": [
    "![Screen%20Shot%202022-03-17%20at%207.25.10%20AM.png](attachment:Screen%20Shot%202022-03-17%20at%207.25.10%20AM.png)"
   ]
  },
  {
   "cell_type": "code",
   "execution_count": 21,
   "id": "40d3b635",
   "metadata": {},
   "outputs": [
    {
     "data": {
      "text/plain": [
       "'adjectival modifier'"
      ]
     },
     "execution_count": 21,
     "metadata": {},
     "output_type": "execute_result"
    }
   ],
   "source": [
    "spacy.explain(\"amod\")"
   ]
  },
  {
   "cell_type": "code",
   "execution_count": 22,
   "id": "adadfaba",
   "metadata": {},
   "outputs": [
    {
     "data": {
      "text/html": [
       "<span class=\"tex2jax_ignore\"><svg xmlns=\"http://www.w3.org/2000/svg\" xmlns:xlink=\"http://www.w3.org/1999/xlink\" xml:lang=\"en\" id=\"c8e08a15769745c79b743f91b3d8c475-0\" class=\"displacy\" width=\"1550\" height=\"362.0\" direction=\"ltr\" style=\"max-width: none; height: 362.0px; color: white; background: #09a3d5; font-family: Source Sans Pro; direction: ltr\">\n",
       "<text class=\"displacy-token\" fill=\"currentColor\" text-anchor=\"middle\" y=\"272.0\">\n",
       "    <tspan class=\"displacy-word\" fill=\"currentColor\" x=\"50\">I</tspan>\n",
       "    <tspan class=\"displacy-tag\" dy=\"2em\" fill=\"currentColor\" x=\"50\">PRON</tspan>\n",
       "</text>\n",
       "\n",
       "<text class=\"displacy-token\" fill=\"currentColor\" text-anchor=\"middle\" y=\"272.0\">\n",
       "    <tspan class=\"displacy-word\" fill=\"currentColor\" x=\"200\">'m</tspan>\n",
       "    <tspan class=\"displacy-tag\" dy=\"2em\" fill=\"currentColor\" x=\"200\">AUX</tspan>\n",
       "</text>\n",
       "\n",
       "<text class=\"displacy-token\" fill=\"currentColor\" text-anchor=\"middle\" y=\"272.0\">\n",
       "    <tspan class=\"displacy-word\" fill=\"currentColor\" x=\"350\">exhausted</tspan>\n",
       "    <tspan class=\"displacy-tag\" dy=\"2em\" fill=\"currentColor\" x=\"350\">ADJ</tspan>\n",
       "</text>\n",
       "\n",
       "<text class=\"displacy-token\" fill=\"currentColor\" text-anchor=\"middle\" y=\"272.0\">\n",
       "    <tspan class=\"displacy-word\" fill=\"currentColor\" x=\"500\">and</tspan>\n",
       "    <tspan class=\"displacy-tag\" dy=\"2em\" fill=\"currentColor\" x=\"500\">CCONJ</tspan>\n",
       "</text>\n",
       "\n",
       "<text class=\"displacy-token\" fill=\"currentColor\" text-anchor=\"middle\" y=\"272.0\">\n",
       "    <tspan class=\"displacy-word\" fill=\"currentColor\" x=\"650\">do</tspan>\n",
       "    <tspan class=\"displacy-tag\" dy=\"2em\" fill=\"currentColor\" x=\"650\">AUX</tspan>\n",
       "</text>\n",
       "\n",
       "<text class=\"displacy-token\" fill=\"currentColor\" text-anchor=\"middle\" y=\"272.0\">\n",
       "    <tspan class=\"displacy-word\" fill=\"currentColor\" x=\"800\">n't</tspan>\n",
       "    <tspan class=\"displacy-tag\" dy=\"2em\" fill=\"currentColor\" x=\"800\">PART</tspan>\n",
       "</text>\n",
       "\n",
       "<text class=\"displacy-token\" fill=\"currentColor\" text-anchor=\"middle\" y=\"272.0\">\n",
       "    <tspan class=\"displacy-word\" fill=\"currentColor\" x=\"950\">feel</tspan>\n",
       "    <tspan class=\"displacy-tag\" dy=\"2em\" fill=\"currentColor\" x=\"950\">VERB</tspan>\n",
       "</text>\n",
       "\n",
       "<text class=\"displacy-token\" fill=\"currentColor\" text-anchor=\"middle\" y=\"272.0\">\n",
       "    <tspan class=\"displacy-word\" fill=\"currentColor\" x=\"1100\">like</tspan>\n",
       "    <tspan class=\"displacy-tag\" dy=\"2em\" fill=\"currentColor\" x=\"1100\">ADP</tspan>\n",
       "</text>\n",
       "\n",
       "<text class=\"displacy-token\" fill=\"currentColor\" text-anchor=\"middle\" y=\"272.0\">\n",
       "    <tspan class=\"displacy-word\" fill=\"currentColor\" x=\"1250\">working</tspan>\n",
       "    <tspan class=\"displacy-tag\" dy=\"2em\" fill=\"currentColor\" x=\"1250\">VERB</tspan>\n",
       "</text>\n",
       "\n",
       "<text class=\"displacy-token\" fill=\"currentColor\" text-anchor=\"middle\" y=\"272.0\">\n",
       "    <tspan class=\"displacy-word\" fill=\"currentColor\" x=\"1400\">today.</tspan>\n",
       "    <tspan class=\"displacy-tag\" dy=\"2em\" fill=\"currentColor\" x=\"1400\">NOUN</tspan>\n",
       "</text>\n",
       "\n",
       "<g class=\"displacy-arrow\">\n",
       "    <path class=\"displacy-arc\" id=\"arrow-c8e08a15769745c79b743f91b3d8c475-0-0\" stroke-width=\"2px\" d=\"M62,227.0 62,202.0 194.0,202.0 194.0,227.0\" fill=\"none\" stroke=\"currentColor\"/>\n",
       "    <text dy=\"1.25em\" style=\"font-size: 0.8em; letter-spacing: 1px\">\n",
       "        <textPath xlink:href=\"#arrow-c8e08a15769745c79b743f91b3d8c475-0-0\" class=\"displacy-label\" startOffset=\"50%\" side=\"left\" fill=\"currentColor\" text-anchor=\"middle\">nsubj</textPath>\n",
       "    </text>\n",
       "    <path class=\"displacy-arrowhead\" d=\"M62,229.0 L58,221.0 66,221.0\" fill=\"currentColor\"/>\n",
       "</g>\n",
       "\n",
       "<g class=\"displacy-arrow\">\n",
       "    <path class=\"displacy-arc\" id=\"arrow-c8e08a15769745c79b743f91b3d8c475-0-1\" stroke-width=\"2px\" d=\"M212,227.0 212,202.0 344.0,202.0 344.0,227.0\" fill=\"none\" stroke=\"currentColor\"/>\n",
       "    <text dy=\"1.25em\" style=\"font-size: 0.8em; letter-spacing: 1px\">\n",
       "        <textPath xlink:href=\"#arrow-c8e08a15769745c79b743f91b3d8c475-0-1\" class=\"displacy-label\" startOffset=\"50%\" side=\"left\" fill=\"currentColor\" text-anchor=\"middle\">acomp</textPath>\n",
       "    </text>\n",
       "    <path class=\"displacy-arrowhead\" d=\"M344.0,229.0 L348.0,221.0 340.0,221.0\" fill=\"currentColor\"/>\n",
       "</g>\n",
       "\n",
       "<g class=\"displacy-arrow\">\n",
       "    <path class=\"displacy-arc\" id=\"arrow-c8e08a15769745c79b743f91b3d8c475-0-2\" stroke-width=\"2px\" d=\"M212,227.0 212,177.0 497.0,177.0 497.0,227.0\" fill=\"none\" stroke=\"currentColor\"/>\n",
       "    <text dy=\"1.25em\" style=\"font-size: 0.8em; letter-spacing: 1px\">\n",
       "        <textPath xlink:href=\"#arrow-c8e08a15769745c79b743f91b3d8c475-0-2\" class=\"displacy-label\" startOffset=\"50%\" side=\"left\" fill=\"currentColor\" text-anchor=\"middle\">cc</textPath>\n",
       "    </text>\n",
       "    <path class=\"displacy-arrowhead\" d=\"M497.0,229.0 L501.0,221.0 493.0,221.0\" fill=\"currentColor\"/>\n",
       "</g>\n",
       "\n",
       "<g class=\"displacy-arrow\">\n",
       "    <path class=\"displacy-arc\" id=\"arrow-c8e08a15769745c79b743f91b3d8c475-0-3\" stroke-width=\"2px\" d=\"M662,227.0 662,177.0 947.0,177.0 947.0,227.0\" fill=\"none\" stroke=\"currentColor\"/>\n",
       "    <text dy=\"1.25em\" style=\"font-size: 0.8em; letter-spacing: 1px\">\n",
       "        <textPath xlink:href=\"#arrow-c8e08a15769745c79b743f91b3d8c475-0-3\" class=\"displacy-label\" startOffset=\"50%\" side=\"left\" fill=\"currentColor\" text-anchor=\"middle\">aux</textPath>\n",
       "    </text>\n",
       "    <path class=\"displacy-arrowhead\" d=\"M662,229.0 L658,221.0 666,221.0\" fill=\"currentColor\"/>\n",
       "</g>\n",
       "\n",
       "<g class=\"displacy-arrow\">\n",
       "    <path class=\"displacy-arc\" id=\"arrow-c8e08a15769745c79b743f91b3d8c475-0-4\" stroke-width=\"2px\" d=\"M812,227.0 812,202.0 944.0,202.0 944.0,227.0\" fill=\"none\" stroke=\"currentColor\"/>\n",
       "    <text dy=\"1.25em\" style=\"font-size: 0.8em; letter-spacing: 1px\">\n",
       "        <textPath xlink:href=\"#arrow-c8e08a15769745c79b743f91b3d8c475-0-4\" class=\"displacy-label\" startOffset=\"50%\" side=\"left\" fill=\"currentColor\" text-anchor=\"middle\">neg</textPath>\n",
       "    </text>\n",
       "    <path class=\"displacy-arrowhead\" d=\"M812,229.0 L808,221.0 816,221.0\" fill=\"currentColor\"/>\n",
       "</g>\n",
       "\n",
       "<g class=\"displacy-arrow\">\n",
       "    <path class=\"displacy-arc\" id=\"arrow-c8e08a15769745c79b743f91b3d8c475-0-5\" stroke-width=\"2px\" d=\"M212,227.0 212,152.0 950.0,152.0 950.0,227.0\" fill=\"none\" stroke=\"currentColor\"/>\n",
       "    <text dy=\"1.25em\" style=\"font-size: 0.8em; letter-spacing: 1px\">\n",
       "        <textPath xlink:href=\"#arrow-c8e08a15769745c79b743f91b3d8c475-0-5\" class=\"displacy-label\" startOffset=\"50%\" side=\"left\" fill=\"currentColor\" text-anchor=\"middle\">conj</textPath>\n",
       "    </text>\n",
       "    <path class=\"displacy-arrowhead\" d=\"M950.0,229.0 L954.0,221.0 946.0,221.0\" fill=\"currentColor\"/>\n",
       "</g>\n",
       "\n",
       "<g class=\"displacy-arrow\">\n",
       "    <path class=\"displacy-arc\" id=\"arrow-c8e08a15769745c79b743f91b3d8c475-0-6\" stroke-width=\"2px\" d=\"M962,227.0 962,202.0 1094.0,202.0 1094.0,227.0\" fill=\"none\" stroke=\"currentColor\"/>\n",
       "    <text dy=\"1.25em\" style=\"font-size: 0.8em; letter-spacing: 1px\">\n",
       "        <textPath xlink:href=\"#arrow-c8e08a15769745c79b743f91b3d8c475-0-6\" class=\"displacy-label\" startOffset=\"50%\" side=\"left\" fill=\"currentColor\" text-anchor=\"middle\">prep</textPath>\n",
       "    </text>\n",
       "    <path class=\"displacy-arrowhead\" d=\"M1094.0,229.0 L1098.0,221.0 1090.0,221.0\" fill=\"currentColor\"/>\n",
       "</g>\n",
       "\n",
       "<g class=\"displacy-arrow\">\n",
       "    <path class=\"displacy-arc\" id=\"arrow-c8e08a15769745c79b743f91b3d8c475-0-7\" stroke-width=\"2px\" d=\"M1112,227.0 1112,202.0 1244.0,202.0 1244.0,227.0\" fill=\"none\" stroke=\"currentColor\"/>\n",
       "    <text dy=\"1.25em\" style=\"font-size: 0.8em; letter-spacing: 1px\">\n",
       "        <textPath xlink:href=\"#arrow-c8e08a15769745c79b743f91b3d8c475-0-7\" class=\"displacy-label\" startOffset=\"50%\" side=\"left\" fill=\"currentColor\" text-anchor=\"middle\">pcomp</textPath>\n",
       "    </text>\n",
       "    <path class=\"displacy-arrowhead\" d=\"M1244.0,229.0 L1248.0,221.0 1240.0,221.0\" fill=\"currentColor\"/>\n",
       "</g>\n",
       "\n",
       "<g class=\"displacy-arrow\">\n",
       "    <path class=\"displacy-arc\" id=\"arrow-c8e08a15769745c79b743f91b3d8c475-0-8\" stroke-width=\"2px\" d=\"M1262,227.0 1262,202.0 1394.0,202.0 1394.0,227.0\" fill=\"none\" stroke=\"currentColor\"/>\n",
       "    <text dy=\"1.25em\" style=\"font-size: 0.8em; letter-spacing: 1px\">\n",
       "        <textPath xlink:href=\"#arrow-c8e08a15769745c79b743f91b3d8c475-0-8\" class=\"displacy-label\" startOffset=\"50%\" side=\"left\" fill=\"currentColor\" text-anchor=\"middle\">npadvmod</textPath>\n",
       "    </text>\n",
       "    <path class=\"displacy-arrowhead\" d=\"M1394.0,229.0 L1398.0,221.0 1390.0,221.0\" fill=\"currentColor\"/>\n",
       "</g>\n",
       "</svg></span>"
      ],
      "text/plain": [
       "<IPython.core.display.HTML object>"
      ]
     },
     "metadata": {},
     "output_type": "display_data"
    }
   ],
   "source": [
    "# the visualizer can also be customized\n",
    "options = {\"compact\": True, \"bg\": \"#09a3d5\",\n",
    "           \"color\": \"white\", \"font\": \"Source Sans Pro\"}\n",
    "displacy.render(doc2, style=\"dep\", options=options)"
   ]
  },
  {
   "attachments": {
    "Screen%20Shot%202022-03-17%20at%207.25.29%20AM.png": {
     "image/png": "[encoded data removed]"
    }
   },
   "cell_type": "markdown",
   "id": "b967e92c",
   "metadata": {},
   "source": [
    "![Screen%20Shot%202022-03-17%20at%207.25.29%20AM.png](attachment:Screen%20Shot%202022-03-17%20at%207.25.29%20AM.png)"
   ]
  },
  {
   "cell_type": "markdown",
   "id": "64f127b0",
   "metadata": {},
   "source": [
    "### Named Entity Recognition"
   ]
  },
  {
   "cell_type": "code",
   "execution_count": 23,
   "id": "1f12898e",
   "metadata": {},
   "outputs": [
    {
     "name": "stdout",
     "output_type": "stream",
     "text": [
      "Apple is looking at buying U.K. startup for $1 billion\n",
      "\n",
      "Apple 0 5 ORG\n",
      "U.K. 27 31 GPE\n",
      "$1 billion 44 54 MONEY\n"
     ]
    }
   ],
   "source": [
    "print(doc3)\n",
    "print()\n",
    "for ent in doc3.ents:\n",
    "    print(ent.text, ent.start_char, ent.end_char, ent.label_)"
   ]
  },
  {
   "cell_type": "code",
   "execution_count": 24,
   "id": "b557cf9b",
   "metadata": {},
   "outputs": [
    {
     "data": {
      "text/plain": [
       "'Countries, cities, states'"
      ]
     },
     "execution_count": 24,
     "metadata": {},
     "output_type": "execute_result"
    }
   ],
   "source": [
    "spacy.explain(\"GPE\")"
   ]
  },
  {
   "cell_type": "code",
   "execution_count": 25,
   "id": "25ae4204",
   "metadata": {},
   "outputs": [
    {
     "name": "stdout",
     "output_type": "stream",
     "text": [
      "My incredible wife is sitting right beside me, reading a book.\n"
     ]
    },
    {
     "data": {
      "text/plain": [
       "()"
      ]
     },
     "execution_count": 25,
     "metadata": {},
     "output_type": "execute_result"
    }
   ],
   "source": [
    "# the downloaded model is a statistical model, \n",
    "# so an empty result means that the model predicted no entities in the text\n",
    "print(doc1)\n",
    "doc1.ents "
   ]
  },
  {
   "cell_type": "code",
   "execution_count": 26,
   "id": "02d9f857",
   "metadata": {},
   "outputs": [
    {
     "name": "stdout",
     "output_type": "stream",
     "text": [
      "I'm exhausted and don't feel like working today.\n"
     ]
    },
    {
     "data": {
      "text/plain": [
       "(today,)"
      ]
     },
     "execution_count": 26,
     "metadata": {},
     "output_type": "execute_result"
    }
   ],
   "source": [
    "print(doc2)\n",
    "doc2.ents"
   ]
  },
  {
   "cell_type": "code",
   "execution_count": 27,
   "id": "15abf6c9",
   "metadata": {},
   "outputs": [
    {
     "name": "stdout",
     "output_type": "stream",
     "text": [
      "What is the capital of the United States?\n"
     ]
    },
    {
     "data": {
      "text/plain": [
       "(the United States,)"
      ]
     },
     "execution_count": 27,
     "metadata": {},
     "output_type": "execute_result"
    }
   ],
   "source": [
    "print(doc4)\n",
    "doc4.ents"
   ]
  },
  {
   "cell_type": "code",
   "execution_count": 28,
   "id": "3cf2866d",
   "metadata": {},
   "outputs": [
    {
     "data": {
      "text/html": [
       "<span class=\"tex2jax_ignore\"><div class=\"entities\" style=\"line-height: 2.5; direction: ltr\">\n",
       "<mark class=\"entity\" style=\"background: #7aecec; padding: 0.45em 0.6em; margin: 0 0.25em; line-height: 1; border-radius: 0.35em;\">\n",
       "    Apple\n",
       "    <span style=\"font-size: 0.8em; font-weight: bold; line-height: 1; border-radius: 0.35em; vertical-align: middle; margin-left: 0.5rem\">ORG</span>\n",
       "</mark>\n",
       " is looking at buying \n",
       "<mark class=\"entity\" style=\"background: #feca74; padding: 0.45em 0.6em; margin: 0 0.25em; line-height: 1; border-radius: 0.35em;\">\n",
       "    U.K.\n",
       "    <span style=\"font-size: 0.8em; font-weight: bold; line-height: 1; border-radius: 0.35em; vertical-align: middle; margin-left: 0.5rem\">GPE</span>\n",
       "</mark>\n",
       " startup for \n",
       "<mark class=\"entity\" style=\"background: #e4e7d2; padding: 0.45em 0.6em; margin: 0 0.25em; line-height: 1; border-radius: 0.35em;\">\n",
       "    $1 billion\n",
       "    <span style=\"font-size: 0.8em; font-weight: bold; line-height: 1; border-radius: 0.35em; vertical-align: middle; margin-left: 0.5rem\">MONEY</span>\n",
       "</mark>\n",
       "</div></span>"
      ],
      "text/plain": [
       "<IPython.core.display.HTML object>"
      ]
     },
     "metadata": {},
     "output_type": "display_data"
    }
   ],
   "source": [
    "# You can also visualize named entities with displaCy\n",
    "displacy.render(doc3, style=\"ent\")"
   ]
  },
  {
   "attachments": {
    "Screen%20Shot%202022-03-17%20at%207.28.39%20AM.png": {
     "image/png": "[encoded data removed]"
    }
   },
   "cell_type": "markdown",
   "id": "7e5b7201",
   "metadata": {},
   "source": [
    "![Screen%20Shot%202022-03-17%20at%207.28.39%20AM.png](attachment:Screen%20Shot%202022-03-17%20at%207.28.39%20AM.png)"
   ]
  },
  {
   "cell_type": "markdown",
   "id": "b20a1d5a",
   "metadata": {},
   "source": [
    "### Word Vectors and Similarity"
   ]
  },
  {
   "cell_type": "code",
   "execution_count": 29,
   "id": "7a7fb78b",
   "metadata": {},
   "outputs": [],
   "source": [
    "nlp_lg = spacy.load(\"en_core_web_lg\") \n",
    "\n",
    "# the large model has 685k unique vectors, so it's more likely to include rarer tokens"
   ]
  },
  {
   "cell_type": "code",
   "execution_count": 30,
   "id": "f42060b0",
   "metadata": {},
   "outputs": [],
   "source": [
    "tokens = nlp_lg(\"cat lion bank deposit Credit Suisse lol njiwefp\")"
   ]
  },
  {
   "cell_type": "code",
   "execution_count": 31,
   "id": "56143dd4",
   "metadata": {},
   "outputs": [
    {
     "name": "stdout",
     "output_type": "stream",
     "text": [
      "cat True 6.6808186 False\n",
      "lion True 6.5120897 False\n",
      "bank True 6.9143744 False\n",
      "deposit True 7.522956 False\n",
      "Credit True 6.8050623 False\n",
      "Suisse True 7.4896507 False\n",
      "lol True 6.660215 False\n",
      "njiwefp False 0.0 True\n"
     ]
    }
   ],
   "source": [
    "for token in tokens:\n",
    "    print(token.text, token.has_vector, token.vector_norm, token.is_oov)"
   ]
  },
  {
   "cell_type": "code",
   "execution_count": 32,
   "id": "151209a2",
   "metadata": {},
   "outputs": [
    {
     "name": "stdout",
     "output_type": "stream",
     "text": [
      "I love to play basketball <-> I enjoy shooting hoops \n",
      " 0.7365455986925641\n"
     ]
    },
    {
     "name": "stderr",
     "output_type": "stream",
     "text": [
      "/Users/rmbuch/opt/anaconda3/envs/riley-spacy/lib/python3.7/site-packages/ipykernel_launcher.py:3: UserWarning: [W007] The model you're using has no word vectors loaded, so the result of the Doc.similarity method will be based on the tagger, parser and NER, which may not give useful similarity judgements. This may happen if you're using one of the small models, e.g. `en_core_web_sm`, which don't ship with word vectors and only use context-sensitive tensors. You can always add your own word vectors, or use one of the larger models instead if available.\n",
      "  This is separate from the ipykernel package so we can avoid doing imports until\n"
     ]
    }
   ],
   "source": [
    "doc3 = nlp(\"I love to play basketball\")\n",
    "doc4 = nlp(\"I enjoy shooting hoops\")\n",
    "print(doc3, \"<->\", doc4, '\\n', doc3.similarity(doc4))"
   ]
  },
  {
   "cell_type": "code",
   "execution_count": 33,
   "id": "facdb196",
   "metadata": {},
   "outputs": [
    {
     "name": "stdout",
     "output_type": "stream",
     "text": [
      "I love to play basketball <-> I enjoy shooting hoops \n",
      " 0.824674674710138\n"
     ]
    }
   ],
   "source": [
    "doc3 = nlp_lg(\"I love to play basketball\")\n",
    "doc4 = nlp_lg(\"I enjoy shooting hoops\")\n",
    "print(doc3, \"<->\", doc4, '\\n', doc3.similarity(doc4))"
   ]
  },
  {
   "cell_type": "code",
   "execution_count": 34,
   "id": "f9617f40",
   "metadata": {},
   "outputs": [
    {
     "name": "stdout",
     "output_type": "stream",
     "text": [
      "I don't mind eating salad for dinner <-> I abhor being served vegetables in the evening \n",
      " 0.5166853115012223\n"
     ]
    },
    {
     "name": "stderr",
     "output_type": "stream",
     "text": [
      "/Users/rmbuch/opt/anaconda3/envs/riley-spacy/lib/python3.7/site-packages/ipykernel_launcher.py:3: UserWarning: [W007] The model you're using has no word vectors loaded, so the result of the Doc.similarity method will be based on the tagger, parser and NER, which may not give useful similarity judgements. This may happen if you're using one of the small models, e.g. `en_core_web_sm`, which don't ship with word vectors and only use context-sensitive tensors. You can always add your own word vectors, or use one of the larger models instead if available.\n",
      "  This is separate from the ipykernel package so we can avoid doing imports until\n"
     ]
    }
   ],
   "source": [
    "doc3 = nlp(\"I don't mind eating salad for dinner\")\n",
    "doc4 = nlp(\"I abhor being served vegetables in the evening\")\n",
    "print(doc3, \"<->\", doc4, '\\n', doc3.similarity(doc4))"
   ]
  },
  {
   "cell_type": "code",
   "execution_count": 35,
   "id": "73b22589",
   "metadata": {},
   "outputs": [
    {
     "name": "stdout",
     "output_type": "stream",
     "text": [
      "I don't mind eating salad for dinner <-> I abhor being served vegetables in the evening \n",
      " 0.8420926615828694\n"
     ]
    }
   ],
   "source": [
    "doc3 = nlp_lg(\"I don't mind eating salad for dinner\")\n",
    "doc4 = nlp_lg(\"I abhor being served vegetables in the evening\")\n",
    "print(doc3, \"<->\", doc4, '\\n', doc3.similarity(doc4))"
   ]
  },
  {
   "cell_type": "markdown",
   "id": "d55c0962",
   "metadata": {},
   "source": [
    "Each Doc, Span, and Token comes with a \".vector\" and a \".similarity\" attribute. "
   ]
  },
  {
   "cell_type": "code",
   "execution_count": 57,
   "id": "6bc7fc10",
   "metadata": {},
   "outputs": [
    {
     "data": {
      "text/plain": [
       "0.9271043469815061"
      ]
     },
     "execution_count": 57,
     "metadata": {},
     "output_type": "execute_result"
    }
   ],
   "source": [
    "nlp_lg(\"Life sucks, doesn't it.\").similarity(nlp_lg(\"Life doesn't suck\"))"
   ]
  },
  {
   "cell_type": "markdown",
   "id": "073046b4",
   "metadata": {},
   "source": [
    "Remember, there is no objective definition of similarity. The similarity is based on the average of token vectors, meaning it's insensitive to word order.\n",
    "\n",
    "There is a library called sense2vec, built on top of spaCy the lets you train and query more detailed and context-sensitive word vectors. "
   ]
  },
  {
   "cell_type": "markdown",
   "id": "29a7f5e5",
   "metadata": {},
   "source": [
    "## Architecture\n",
    "\n",
    "Lanuage class = class used to process a text and turn it into a Doc object. Typically stored as variable called \"nlp\".  \n",
    "\n",
    "Vocab = where strings, word vectors, and lexical attributes are stored. This is centralized, avoiding the need to store multiple copies of data.  \n",
    "\n",
    "Doc object = owns sequence of tokens and all annotations\n",
    "\n",
    "Span (small slice of the Doc) and Token (individual word, symbol, punctuation, etc.) are views that point to the Doc object.\n"
   ]
  },
  {
   "cell_type": "markdown",
   "id": "6e9fbeaf",
   "metadata": {},
   "source": [
    "### Vocab and Hashes\n",
    "\n",
    "spaCy encodes all strings to hash values to reduce memory and increase efficiency.\n",
    "\n",
    "If you process lots of documents that contain the word \"book\", storing \"book\" every time would take up too much space. spaCy stores it in the StringStore object (basically a lookup table) and then the doc object stores a hash that points to that string."
   ]
  },
  {
   "cell_type": "code",
   "execution_count": 36,
   "id": "60e0124f",
   "metadata": {},
   "outputs": [
    {
     "name": "stdout",
     "output_type": "stream",
     "text": [
      "My incredible wife is sitting right beside me, reading a book.\n"
     ]
    }
   ],
   "source": [
    "print(doc1)"
   ]
  },
  {
   "cell_type": "code",
   "execution_count": 37,
   "id": "f33f2b1b",
   "metadata": {},
   "outputs": [
    {
     "name": "stdout",
     "output_type": "stream",
     "text": [
      "13814433107111459297\n",
      "13814433107111459297\n"
     ]
    }
   ],
   "source": [
    "print(doc1.vocab.strings['book'])\n",
    "print(nlp(\"How many books do you have on your bookshelf?\").vocab.strings['book'])"
   ]
  },
  {
   "cell_type": "code",
   "execution_count": 38,
   "id": "1a3ae09a",
   "metadata": {},
   "outputs": [
    {
     "data": {
      "text/plain": [
       "'book'"
      ]
     },
     "execution_count": 38,
     "metadata": {},
     "output_type": "execute_result"
    }
   ],
   "source": [
    "doc1.vocab.strings[13814433107111459297]"
   ]
  },
  {
   "cell_type": "markdown",
   "id": "8215a185",
   "metadata": {},
   "source": [
    "spaCy exports the Vocab when you save a Doc object or NLP object so that you have the object, the encoded annotations, and the key to decode it. This avoids a situation where a hash is trying to point to a word in the Vocab() that doesn't exist."
   ]
  },
  {
   "cell_type": "markdown",
   "id": "1ba6282f",
   "metadata": {},
   "source": [
    "### Serialization\n",
    "\n",
    "Save your progress by translating your nlp obect (its contents and structure) into a file or byte string. spaCy comes with built-in support for Pickle."
   ]
  },
  {
   "cell_type": "code",
   "execution_count": 39,
   "id": "761aa570",
   "metadata": {},
   "outputs": [],
   "source": [
    "# store the config, which contains the pipeline configuration and all relevant settings\n",
    "config = nlp.config"
   ]
  },
  {
   "cell_type": "code",
   "execution_count": 40,
   "id": "693fd000",
   "metadata": {},
   "outputs": [
    {
     "name": "stdout",
     "output_type": "stream",
     "text": [
      "dict_keys(['paths', 'system', 'nlp', 'components', 'corpora', 'training', 'pretraining', 'initialize'])\n"
     ]
    }
   ],
   "source": [
    "print(config.keys())"
   ]
  },
  {
   "cell_type": "code",
   "execution_count": 41,
   "id": "aa502ff7",
   "metadata": {},
   "outputs": [],
   "source": [
    "data = nlp.to_bytes()"
   ]
  },
  {
   "cell_type": "code",
   "execution_count": 42,
   "id": "5a5702b2",
   "metadata": {},
   "outputs": [
    {
     "data": {
      "text/plain": [
       "<spacy.lang.en.English at 0x7fc6261ae190>"
      ]
     },
     "execution_count": 42,
     "metadata": {},
     "output_type": "execute_result"
    }
   ],
   "source": [
    "# deserialize\n",
    "lang_cls = spacy.util.get_lang_class(config[\"nlp\"][\"lang\"])\n",
    "nlp = lang_cls.from_config(config)\n",
    "nlp.from_bytes(data)"
   ]
  },
  {
   "cell_type": "code",
   "execution_count": 43,
   "id": "56a44d1d",
   "metadata": {},
   "outputs": [],
   "source": [
    "#create a folder at the path with tokenizer, and folders for each component\n",
    "# nlp.to_disk(\"saved_nlp_object_path\") "
   ]
  },
  {
   "cell_type": "markdown",
   "id": "cda17b31",
   "metadata": {},
   "source": [
    "### Language Data\n",
    "\n",
    "spaCy provides different pre-trained models in 19 different languages, and has support for 64. "
   ]
  },
  {
   "cell_type": "markdown",
   "id": "31257536",
   "metadata": {},
   "source": [
    "```\n",
    "python -m spacy download es_core_news_sm\n",
    "```"
   ]
  },
  {
   "cell_type": "code",
   "execution_count": 45,
   "id": "5f87c928",
   "metadata": {},
   "outputs": [],
   "source": [
    "nlp_es = spacy.load('es_core_news_sm')"
   ]
  },
  {
   "cell_type": "code",
   "execution_count": 46,
   "id": "99d7380f",
   "metadata": {},
   "outputs": [],
   "source": [
    "from spacy.lang.es.examples import sentences \n",
    "\n",
    "nlp = spacy.load(\"es_core_news_sm\")\n",
    "doc = nlp(sentences[0])"
   ]
  },
  {
   "cell_type": "code",
   "execution_count": 47,
   "id": "27eecd3e",
   "metadata": {},
   "outputs": [
    {
     "name": "stdout",
     "output_type": "stream",
     "text": [
      "Apple está buscando comprar una startup del Reino Unido por mil millones de dólares.\n",
      "\n",
      "Apple PROPN nsubj\n",
      "está AUX aux\n",
      "buscando VERB ROOT\n",
      "comprar VERB xcomp\n",
      "una DET det\n",
      "startup NOUN obj\n",
      "del ADP case\n",
      "Reino PROPN nmod\n",
      "Unido PROPN flat\n",
      "por ADP case\n",
      "mil NUM nummod\n",
      "millones NOUN obl\n",
      "de ADP case\n",
      "dólares NOUN nmod\n",
      ". PUNCT punct\n"
     ]
    }
   ],
   "source": [
    "print(doc.text)\n",
    "print()\n",
    "for token in doc:\n",
    "    print(token.text, token.pos_, token.dep_)"
   ]
  },
  {
   "cell_type": "markdown",
   "id": "dbb7d93b",
   "metadata": {},
   "source": [
    "__________________________\n",
    "## Toy Problem - Sentiment Analysis\n",
    "\n",
    "### Loading in Data\n",
    "\n",
    "Loading in a CSV downloaded from Kaggle (https://www.kaggle.com/sbhatti/financial-sentiment-analysis)\n",
    "\n",
    "This is a Financial Sentiment Analysis Dataset, but I will use it for NER.\n",
    "- FiQA and Financial PhraseBank combined into one CSV"
   ]
  },
  {
   "cell_type": "code",
   "execution_count": 48,
   "id": "4982a464",
   "metadata": {},
   "outputs": [
    {
     "data": {
      "text/html": [
       "<div>\n",
       "<style scoped>\n",
       "    .dataframe tbody tr th:only-of-type {\n",
       "        vertical-align: middle;\n",
       "    }\n",
       "\n",
       "    .dataframe tbody tr th {\n",
       "        vertical-align: top;\n",
       "    }\n",
       "\n",
       "    .dataframe thead th {\n",
       "        text-align: right;\n",
       "    }\n",
       "</style>\n",
       "<table border=\"1\" class=\"dataframe\">\n",
       "  <thead>\n",
       "    <tr style=\"text-align: right;\">\n",
       "      <th></th>\n",
       "      <th>Sentence</th>\n",
       "      <th>Sentiment</th>\n",
       "    </tr>\n",
       "  </thead>\n",
       "  <tbody>\n",
       "    <tr>\n",
       "      <th>0</th>\n",
       "      <td>The GeoSolutions technology will leverage Bene...</td>\n",
       "      <td>positive</td>\n",
       "    </tr>\n",
       "    <tr>\n",
       "      <th>1</th>\n",
       "      <td>$ESI on lows, down $1.50 to $2.50 BK a real po...</td>\n",
       "      <td>negative</td>\n",
       "    </tr>\n",
       "    <tr>\n",
       "      <th>2</th>\n",
       "      <td>For the last quarter of 2010 , Componenta 's n...</td>\n",
       "      <td>positive</td>\n",
       "    </tr>\n",
       "    <tr>\n",
       "      <th>3</th>\n",
       "      <td>According to the Finnish-Russian Chamber of Co...</td>\n",
       "      <td>neutral</td>\n",
       "    </tr>\n",
       "    <tr>\n",
       "      <th>4</th>\n",
       "      <td>The Swedish buyout firm has sold its remaining...</td>\n",
       "      <td>neutral</td>\n",
       "    </tr>\n",
       "  </tbody>\n",
       "</table>\n",
       "</div>"
      ],
      "text/plain": [
       "                                            Sentence Sentiment\n",
       "0  The GeoSolutions technology will leverage Bene...  positive\n",
       "1  $ESI on lows, down $1.50 to $2.50 BK a real po...  negative\n",
       "2  For the last quarter of 2010 , Componenta 's n...  positive\n",
       "3  According to the Finnish-Russian Chamber of Co...   neutral\n",
       "4  The Swedish buyout firm has sold its remaining...   neutral"
      ]
     },
     "execution_count": 48,
     "metadata": {},
     "output_type": "execute_result"
    }
   ],
   "source": [
    "import pandas as pd\n",
    "df = pd.read_csv(\"data.csv\")\n",
    "df.head()"
   ]
  },
  {
   "cell_type": "code",
   "execution_count": 49,
   "id": "6a07a526",
   "metadata": {},
   "outputs": [
    {
     "data": {
      "text/plain": [
       "(5842, 2)"
      ]
     },
     "execution_count": 49,
     "metadata": {},
     "output_type": "execute_result"
    }
   ],
   "source": [
    "df.shape"
   ]
  },
  {
   "cell_type": "code",
   "execution_count": 50,
   "id": "622dbf84",
   "metadata": {},
   "outputs": [
    {
     "data": {
      "text/plain": [
       "[\"The GeoSolutions technology will leverage Benefon 's GPS solutions by providing Location Based Search Technology , a Communities Platform , location relevant multimedia content and a new and powerful commercial model .\",\n",
       " '$ESI on lows, down $1.50 to $2.50 BK a real possibility',\n",
       " \"For the last quarter of 2010 , Componenta 's net sales doubled to EUR131m from EUR76m for the same period a year earlier , while it moved to a zero pre-tax profit from a pre-tax loss of EUR7m .\",\n",
       " 'According to the Finnish-Russian Chamber of Commerce , all the major construction companies of Finland are operating in Russia .',\n",
       " 'The Swedish buyout firm has sold its remaining 22.4 percent stake , almost eighteen months after taking the company public in Finland .']"
      ]
     },
     "execution_count": 50,
     "metadata": {},
     "output_type": "execute_result"
    }
   ],
   "source": [
    "sentences = [_ for _ in df['Sentence']]\n",
    "sentences[0:5]"
   ]
  },
  {
   "cell_type": "code",
   "execution_count": 51,
   "id": "0e014ced",
   "metadata": {},
   "outputs": [],
   "source": [
    "nlp = spacy.load(\"en_core_web_lg\")"
   ]
  },
  {
   "cell_type": "code",
   "execution_count": 52,
   "id": "48c16b9a",
   "metadata": {},
   "outputs": [],
   "source": [
    "nlp2 = spacy.load(\"en_core_web_lg\", disable=[\"parser\", \"attribute-rule\", \"lemmatizer\"])"
   ]
  },
  {
   "cell_type": "code",
   "execution_count": 53,
   "id": "bd27309a",
   "metadata": {},
   "outputs": [
    {
     "name": "stdout",
     "output_type": "stream",
     "text": [
      "[('GeoSolutions', 'ORG'), ('Benefon', 'PERSON'), ('GPS', 'ORG'), ('Location Based Search Technology', 'ORG')]\n",
      "[('ESI', 'ORG'), ('$1.50 to $2.50', 'MONEY'), ('BK', 'ORG')]\n",
      "[('the last quarter of 2010', 'DATE'), ('Componenta', 'GPE'), ('the same period', 'DATE'), ('a year earlier', 'DATE'), ('zero', 'CARDINAL')]\n",
      "[('the Finnish-Russian Chamber of Commerce', 'ORG'), ('Finland', 'GPE'), ('Russia', 'GPE')]\n",
      "[('Swedish', 'NORP'), ('22.4 percent', 'PERCENT'), ('almost eighteen months', 'DATE'), ('Finland', 'GPE')]\n",
      "[]\n",
      "[('Shell', 'ORG'), ('$70 Billion', 'MONEY')]\n",
      "[('SSH COMMUNICATIONS SECURITY CORP STOCK EXCHANGE', 'ORG'), ('OCTOBER 14 , 2008', 'DATE'), ('2:45 PM', 'TIME'), ('the full year', 'DATE')]\n",
      "[('Kone', 'PERSON'), ('some 14 %', 'PERCENT'), ('the first nine months of 2008', 'DATE')]\n",
      "[('Stockmann', 'ORG'), ('over 8,000 square metres', 'QUANTITY'), ('Stockmann', 'ORG'), ('about EUR 12 million', 'MONEY')]\n"
     ]
    }
   ],
   "source": [
    "# Find labeled entities from the first 5 sentences\n",
    "for doc in nlp.pipe(sentences[0:10]):\n",
    "    print([(ent.text, ent.label_) for ent in doc.ents])"
   ]
  },
  {
   "cell_type": "markdown",
   "id": "72675bbb",
   "metadata": {},
   "source": [
    "Disabling components of the pipeline that you aren't using can speed up your model. "
   ]
  },
  {
   "cell_type": "code",
   "execution_count": 54,
   "id": "ad34485e",
   "metadata": {},
   "outputs": [],
   "source": [
    "def has_country(doc):\n",
    "    for ent in doc.ents:\n",
    "        if ent.label_ in [\"GPE\"]:\n",
    "            return True\n",
    "    return False"
   ]
  },
  {
   "cell_type": "code",
   "execution_count": 55,
   "id": "42eef6e9",
   "metadata": {},
   "outputs": [
    {
     "name": "stdout",
     "output_type": "stream",
     "text": [
      "CPU times: user 1.41 s, sys: 201 ms, total: 1.61 s\n",
      "Wall time: 1.66 s\n"
     ]
    },
    {
     "data": {
      "text/plain": [
       "[For the last quarter of 2010 , Componenta 's net sales doubled to EUR131m from EUR76m for the same period a year earlier , while it moved to a zero pre-tax profit from a pre-tax loss of EUR7m .,\n",
       " According to the Finnish-Russian Chamber of Commerce , all the major construction companies of Finland are operating in Russia .,\n",
       " The Swedish buyout firm has sold its remaining 22.4 percent stake , almost eighteen months after taking the company public in Finland .,\n",
       " Circulation revenue has increased by 5 % in Finland and 4 % in Sweden in 2008 .,\n",
       " Shire CEO steps up drive to get Baxalta board talking,\n",
       " HUHTAMAKI OYJ STOCK EXCHANGE RELEASE , 16.9.2008 AT 13.32 Huhtamaki 's Capital Markets Day for institutional investors and analysts is held in Espoo , September 16 , 2008 starting at 13.30 pm Finnish time .,\n",
       " According to Finnish pension insurance company Varma , Varma was the recipient of over two thirds of the revenue of the earnings-related pension cover that was under competitive tendering in Finland .,\n",
       " Russia accounted for 9 % of the Lagardere magazine division 's revenue , or EUR 114.40 mn ( USD 148.11 mn ) in 2009 , the USA - for 18 % .,\n",
       " More staff has been recruited in Japan to further complement its network of close to 50 service locations in more than 20 countries worldwide .,\n",
       " US sanctions put Gazprom-Shell alliance plans in jeopardy]"
      ]
     },
     "execution_count": 55,
     "metadata": {},
     "output_type": "execute_result"
    }
   ],
   "source": [
    "%%time\n",
    "g = (doc for doc in nlp.pipe(sentences) if has_country(doc))\n",
    "[next(g) for i in range(10)]"
   ]
  },
  {
   "cell_type": "code",
   "execution_count": 56,
   "id": "a9cad167",
   "metadata": {},
   "outputs": [
    {
     "name": "stdout",
     "output_type": "stream",
     "text": [
      "CPU times: user 1.01 s, sys: 171 ms, total: 1.18 s\n",
      "Wall time: 1.22 s\n"
     ]
    },
    {
     "data": {
      "text/plain": [
       "[For the last quarter of 2010 , Componenta 's net sales doubled to EUR131m from EUR76m for the same period a year earlier , while it moved to a zero pre-tax profit from a pre-tax loss of EUR7m .,\n",
       " According to the Finnish-Russian Chamber of Commerce , all the major construction companies of Finland are operating in Russia .,\n",
       " The Swedish buyout firm has sold its remaining 22.4 percent stake , almost eighteen months after taking the company public in Finland .,\n",
       " Circulation revenue has increased by 5 % in Finland and 4 % in Sweden in 2008 .,\n",
       " Shire CEO steps up drive to get Baxalta board talking,\n",
       " HUHTAMAKI OYJ STOCK EXCHANGE RELEASE , 16.9.2008 AT 13.32 Huhtamaki 's Capital Markets Day for institutional investors and analysts is held in Espoo , September 16 , 2008 starting at 13.30 pm Finnish time .,\n",
       " According to Finnish pension insurance company Varma , Varma was the recipient of over two thirds of the revenue of the earnings-related pension cover that was under competitive tendering in Finland .,\n",
       " Russia accounted for 9 % of the Lagardere magazine division 's revenue , or EUR 114.40 mn ( USD 148.11 mn ) in 2009 , the USA - for 18 % .,\n",
       " More staff has been recruited in Japan to further complement its network of close to 50 service locations in more than 20 countries worldwide .,\n",
       " US sanctions put Gazprom-Shell alliance plans in jeopardy]"
      ]
     },
     "execution_count": 56,
     "metadata": {},
     "output_type": "execute_result"
    }
   ],
   "source": [
    "%%time\n",
    "g = (doc for doc in nlp2.pipe(sentences) if has_country(doc))\n",
    "[next(g) for i in range(10)]"
   ]
  },
  {
   "cell_type": "markdown",
   "id": "2ec0effa",
   "metadata": {},
   "source": [
    "### Pros and Cons"
   ]
  },
  {
   "cell_type": "markdown",
   "id": "5f2d55a1",
   "metadata": {},
   "source": [
    "Pros: \n",
    "- 64+ pre-trained models in 19 languages, many with pre-trained word vectors\n",
    "- Fast and lightweight\n",
    "- Can handle large volumes of text\n",
    "- Supports custom models in PyTorch and TensorFlow\n",
    "- Built-in visualizers\n",
    "\n",
    "Cons:\n",
    "- Not designed for language generation, just language processing. "
   ]
  },
  {
   "cell_type": "markdown",
   "id": "c9dacab5",
   "metadata": {},
   "source": [
    "### Concluding Thoughts\n",
    "\n",
    "- The barrier to entry is low, so spaCy is definitely a good library for beginners to NLP. They have thorough guides on how to get started and use their different features. They claim they are designed for end-to-end production, which isn't something that I can evaluate, but it seems that reviews I find online are that it's better for beginner tasks and cookie-cutter problems, but it is more difficult for customizing to your own problems. \n",
    "\n",
    "\n",
    "- The spaCy Universe (https://spacy.io/universe) is a collection of projects developed for and with spaCy. There are some cool projects on there: \n",
    "    - spacy_streamlit shows visualization of spaCy models through simple, interactive streamlit apps.\n",
    "    - ExcelCy allows for training a NER from excel files or PDFs. \n",
    "    - spaCy-transformers package adds HuggingFace transformers to the spaCy models\n",
    "    \n",
    "#### spaCy vs. HuggingFace\n",
    "- spaCy is a library for text processing, while HuggingFace can do NLU and NLG\n",
    "- HuggingFace is also easy to install and learn through guides on their website\n",
    "\n",
    "#### spaCy vs. NLTK\n",
    "- NLTK was built as a research tool to create complex NLP functions. For each task, NLTK supports a range of algorithms, while spaCy generally only provides one \"state-of-the-art\" algorithm.\n",
    "- spaCy is more a service to help you quickly complete basic NLP tasks\n"
   ]
  },
  {
   "cell_type": "code",
   "execution_count": null,
   "id": "0dd6d209",
   "metadata": {},
   "outputs": [],
   "source": []
  }
 ],
 "metadata": {
  "kernelspec": {
   "display_name": "Python 3 (ipykernel)",
   "language": "python",
   "name": "python3"
  },
  "language_info": {
   "codemirror_mode": {
    "name": "ipython",
    "version": 3
   },
   "file_extension": ".py",
   "mimetype": "text/x-python",
   "name": "python",
   "nbconvert_exporter": "python",
   "pygments_lexer": "ipython3",
   "version": "3.7.11"
  }
 },
 "nbformat": 4,
 "nbformat_minor": 5
}
